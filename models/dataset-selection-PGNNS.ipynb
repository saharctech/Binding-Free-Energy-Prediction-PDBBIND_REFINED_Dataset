{
 "cells": [
  {
   "cell_type": "code",
   "execution_count": 1,
   "id": "740c44e1-8fe5-4c3c-88dd-4e435d2f28a9",
   "metadata": {},
   "outputs": [],
   "source": [
    "import pandas as pd"
   ]
  },
  {
   "cell_type": "code",
   "execution_count": 2,
   "id": "4b5b17c6-785b-4b45-8183-afb4985e0c83",
   "metadata": {},
   "outputs": [],
   "source": [
    "df = pd.read_csv('molecule_parameters.csv')"
   ]
  },
  {
   "cell_type": "code",
   "execution_count": 3,
   "id": "a7a47c35-8fb0-4111-8cf6-138051780d5b",
   "metadata": {},
   "outputs": [
    {
     "data": {
      "text/html": [
       "<div>\n",
       "<style scoped>\n",
       "    .dataframe tbody tr th:only-of-type {\n",
       "        vertical-align: middle;\n",
       "    }\n",
       "\n",
       "    .dataframe tbody tr th {\n",
       "        vertical-align: top;\n",
       "    }\n",
       "\n",
       "    .dataframe thead th {\n",
       "        text-align: right;\n",
       "    }\n",
       "</style>\n",
       "<table border=\"1\" class=\"dataframe\">\n",
       "  <thead>\n",
       "    <tr style=\"text-align: right;\">\n",
       "      <th></th>\n",
       "      <th>complex-name</th>\n",
       "      <th>gb-complex-etot</th>\n",
       "      <th>gb-complex-1-4-eel</th>\n",
       "      <th>gb-complex-eelec</th>\n",
       "      <th>gb-complex-egb</th>\n",
       "      <th>gb-complex-esurf</th>\n",
       "      <th>gb-protein-etot</th>\n",
       "      <th>gb-protein-1-4-eel</th>\n",
       "      <th>gb-protein-eelect</th>\n",
       "      <th>gb-protein-egb</th>\n",
       "      <th>...</th>\n",
       "      <th>pb-protein-epb</th>\n",
       "      <th>pb-protein-ecavity</th>\n",
       "      <th>pb-ligand-etot</th>\n",
       "      <th>pb-ligand-vdwaals</th>\n",
       "      <th>pb-ligand-eelec</th>\n",
       "      <th>pb-ligand-epb</th>\n",
       "      <th>pb-ligand-ecavity</th>\n",
       "      <th>ddg</th>\n",
       "      <th>enthalpy-gb</th>\n",
       "      <th>entropy</th>\n",
       "    </tr>\n",
       "  </thead>\n",
       "  <tbody>\n",
       "    <tr>\n",
       "      <th>0</th>\n",
       "      <td>10gs</td>\n",
       "      <td>-16145.9190</td>\n",
       "      <td>18478.8142</td>\n",
       "      <td>-31052.1742</td>\n",
       "      <td>-3659.4630</td>\n",
       "      <td>86.9041</td>\n",
       "      <td>-16042.9095</td>\n",
       "      <td>18034.9833</td>\n",
       "      <td>-30493.1722</td>\n",
       "      <td>-3672.7126</td>\n",
       "      <td>...</td>\n",
       "      <td>-3650.6491</td>\n",
       "      <td>87.9920</td>\n",
       "      <td>-565.1881</td>\n",
       "      <td>-10.1928</td>\n",
       "      <td>-416.8647</td>\n",
       "      <td>-141.8681</td>\n",
       "      <td>3.7375</td>\n",
       "      <td>-8.841927</td>\n",
       "      <td>-42.916</td>\n",
       "      <td>-34.07407324</td>\n",
       "    </tr>\n",
       "    <tr>\n",
       "      <th>1</th>\n",
       "      <td>1a1e</td>\n",
       "      <td>-9777.1684</td>\n",
       "      <td>7030.7012</td>\n",
       "      <td>-13515.0036</td>\n",
       "      <td>-3349.3791</td>\n",
       "      <td>56.5130</td>\n",
       "      <td>-9499.3955</td>\n",
       "      <td>7189.5223</td>\n",
       "      <td>-13366.9577</td>\n",
       "      <td>-3378.1703</td>\n",
       "      <td>...</td>\n",
       "      <td>-3333.0961</td>\n",
       "      <td>56.2103</td>\n",
       "      <td>-173.5190</td>\n",
       "      <td>-11.4008</td>\n",
       "      <td>-96.6715</td>\n",
       "      <td>-69.9064</td>\n",
       "      <td>4.4598</td>\n",
       "      <td>-8.289306</td>\n",
       "      <td>3.2581</td>\n",
       "      <td>11.54740633</td>\n",
       "    </tr>\n",
       "  </tbody>\n",
       "</table>\n",
       "<p>2 rows × 34 columns</p>\n",
       "</div>"
      ],
      "text/plain": [
       "  complex-name  gb-complex-etot  gb-complex-1-4-eel  gb-complex-eelec  \\\n",
       "0         10gs      -16145.9190          18478.8142       -31052.1742   \n",
       "1         1a1e       -9777.1684           7030.7012       -13515.0036   \n",
       "\n",
       "   gb-complex-egb  gb-complex-esurf  gb-protein-etot  gb-protein-1-4-eel  \\\n",
       "0      -3659.4630           86.9041      -16042.9095          18034.9833   \n",
       "1      -3349.3791           56.5130       -9499.3955           7189.5223   \n",
       "\n",
       "   gb-protein-eelect  gb-protein-egb  ...  pb-protein-epb  pb-protein-ecavity  \\\n",
       "0        -30493.1722      -3672.7126  ...      -3650.6491             87.9920   \n",
       "1        -13366.9577      -3378.1703  ...      -3333.0961             56.2103   \n",
       "\n",
       "   pb-ligand-etot  pb-ligand-vdwaals  pb-ligand-eelec  pb-ligand-epb  \\\n",
       "0       -565.1881           -10.1928        -416.8647      -141.8681   \n",
       "1       -173.5190           -11.4008         -96.6715       -69.9064   \n",
       "\n",
       "   pb-ligand-ecavity       ddg  enthalpy-gb       entropy  \n",
       "0             3.7375 -8.841927      -42.916  -34.07407324  \n",
       "1             4.4598 -8.289306       3.2581   11.54740633  \n",
       "\n",
       "[2 rows x 34 columns]"
      ]
     },
     "execution_count": 3,
     "metadata": {},
     "output_type": "execute_result"
    }
   ],
   "source": [
    "df.head(2)"
   ]
  },
  {
   "cell_type": "code",
   "execution_count": 3,
   "id": "11673882-a883-4ea1-8ffe-b350a3293979",
   "metadata": {},
   "outputs": [
    {
     "data": {
      "text/plain": [
       "<AxesSubplot:xlabel='ddg', ylabel='Frequency'>"
      ]
     },
     "execution_count": 3,
     "metadata": {},
     "output_type": "execute_result"
    },
    {
     "data": {
      "image/png": "[encoded data removed]",
      "text/plain": [
       "<Figure size 432x288 with 1 Axes>"
      ]
     },
     "metadata": {
      "needs_background": "light"
     },
     "output_type": "display_data"
    }
   ],
   "source": [
    "# DDG distribution for entire dataset of ~3000 datapoints\n",
    "import matplotlib.pyplot as plt\n",
    "plt.xlabel('ddg')\n",
    "df['ddg'].plot.hist()"
   ]
  },
  {
   "cell_type": "code",
   "execution_count": 44,
   "id": "7f48eb88-2086-4ec7-85b1-2a83cd8f02af",
   "metadata": {},
   "outputs": [],
   "source": [
    "from os import listdir\n",
    "from os.path import isfile, join\n",
    "mypath = 'dataset234/'\n",
    "onlyfiles = [f for f in listdir(mypath) if f not in ('.DS_Store') and f in (df['complex-name'].tolist())]"
   ]
  },
  {
   "cell_type": "code",
   "execution_count": 73,
   "id": "efc729d4-d54f-4bcb-a6a7-73563e9a5a0e",
   "metadata": {},
   "outputs": [],
   "source": [
    "df_234= pd.DataFrame()\n",
    "ddg_list = []\n",
    "for i in onlyfiles:\n",
    "    ddg_list.append(float(df[df['complex-name']==i]['ddg']))"
   ]
  },
  {
   "cell_type": "code",
   "execution_count": 74,
   "id": "f7aeb894-acb0-46c3-a42c-96411a7762f9",
   "metadata": {},
   "outputs": [
    {
     "data": {
      "text/plain": [
       "-12.01949419"
      ]
     },
     "execution_count": 74,
     "metadata": {},
     "output_type": "execute_result"
    }
   ],
   "source": [
    "ddg_list[0]"
   ]
  },
  {
   "cell_type": "code",
   "execution_count": 75,
   "id": "e38bd063-75b8-4c08-b9fb-d52fcdfb71af",
   "metadata": {},
   "outputs": [],
   "source": [
    "df_234 = pd.DataFrame({'ddg': ddg_list}) "
   ]
  },
  {
   "cell_type": "code",
   "execution_count": 76,
   "id": "5e3242b8-0782-408a-a3a0-9bc454b733fe",
   "metadata": {},
   "outputs": [
    {
     "data": {
      "text/html": [
       "<div>\n",
       "<style scoped>\n",
       "    .dataframe tbody tr th:only-of-type {\n",
       "        vertical-align: middle;\n",
       "    }\n",
       "\n",
       "    .dataframe tbody tr th {\n",
       "        vertical-align: top;\n",
       "    }\n",
       "\n",
       "    .dataframe thead th {\n",
       "        text-align: right;\n",
       "    }\n",
       "</style>\n",
       "<table border=\"1\" class=\"dataframe\">\n",
       "  <thead>\n",
       "    <tr style=\"text-align: right;\">\n",
       "      <th></th>\n",
       "      <th>ddg</th>\n",
       "    </tr>\n",
       "  </thead>\n",
       "  <tbody>\n",
       "    <tr>\n",
       "      <th>0</th>\n",
       "      <td>-12.019494</td>\n",
       "    </tr>\n",
       "    <tr>\n",
       "      <th>1</th>\n",
       "      <td>-8.634694</td>\n",
       "    </tr>\n",
       "  </tbody>\n",
       "</table>\n",
       "</div>"
      ],
      "text/plain": [
       "         ddg\n",
       "0 -12.019494\n",
       "1  -8.634694"
      ]
     },
     "execution_count": 76,
     "metadata": {},
     "output_type": "execute_result"
    }
   ],
   "source": [
    "df_234.head(2)"
   ]
  },
  {
   "cell_type": "code",
   "execution_count": 79,
   "id": "eb4fe5fa-9889-4d15-a955-0a1538c1ed30",
   "metadata": {},
   "outputs": [
    {
     "data": {
      "text/plain": [
       "<AxesSubplot:ylabel='Frequency'>"
      ]
     },
     "execution_count": 79,
     "metadata": {},
     "output_type": "execute_result"
    },
    {
     "data": {
      "image/png": "[encoded data removed]",
      "text/plain": [
       "<Figure size 432x288 with 1 Axes>"
      ]
     },
     "metadata": {
      "needs_background": "light"
     },
     "output_type": "display_data"
    }
   ],
   "source": [
    "# DDG distribution for dataset of ~200 datapoints\n",
    "import matplotlib.pyplot as plt\n",
    "# plt.xlabel('ddg')\n",
    "df_234.plot.hist('ddg')"
   ]
  },
  {
   "cell_type": "code",
   "execution_count": 14,
   "id": "2d00ac03-2010-4259-99cb-33846a13d366",
   "metadata": {},
   "outputs": [],
   "source": [
    "from os import listdir\n",
    "from os.path import isfile, join\n",
    "mypath = '500/'\n",
    "onlyfiles = [f for f in listdir(mypath) if f not in ('.DS_Store') and f in (df['complex-name'].tolist())]"
   ]
  },
  {
   "cell_type": "code",
   "execution_count": 15,
   "id": "b6170e9f-a2a1-4875-9648-0a2d40763f11",
   "metadata": {},
   "outputs": [],
   "source": [
    "df_500= pd.DataFrame()\n",
    "ddg_list_500 = []\n",
    "for i in onlyfiles:\n",
    "    ddg_list_500.append(float(df[df['complex-name']==i]['ddg']))\n",
    "df_500 = pd.DataFrame({'ddg': ddg_list_500}) "
   ]
  },
  {
   "cell_type": "code",
   "execution_count": 16,
   "id": "99685a4e-3ea6-4f63-b1c6-fc98b4044fa3",
   "metadata": {},
   "outputs": [
    {
     "data": {
      "text/plain": [
       "<AxesSubplot:ylabel='Frequency'>"
      ]
     },
     "execution_count": 16,
     "metadata": {},
     "output_type": "execute_result"
    },
    {
     "data": {
      "image/png": "[encoded data removed]",
      "text/plain": [
       "<Figure size 432x288 with 1 Axes>"
      ]
     },
     "metadata": {
      "needs_background": "light"
     },
     "output_type": "display_data"
    }
   ],
   "source": [
    "# DDG distribution for dataset of ~500 datapoints\n",
    "import matplotlib.pyplot as plt\n",
    "# plt.xlabel('ddg')\n",
    "df_500.plot.hist('ddg')"
   ]
  },
  {
   "cell_type": "code",
   "execution_count": 145,
   "id": "e9114965-baba-40c0-b420-509b35802bbf",
   "metadata": {},
   "outputs": [
    {
     "data": {
      "text/plain": [
       "502"
      ]
     },
     "execution_count": 145,
     "metadata": {},
     "output_type": "execute_result"
    }
   ],
   "source": [
    "len(df_500)"
   ]
  },
  {
   "cell_type": "code",
   "execution_count": 4,
   "id": "e3023c82-f1d6-43c1-bf62-aedeadcb9a89",
   "metadata": {},
   "outputs": [],
   "source": [
    "df['entropy'] = pd.to_numeric(df['entropy'], errors='coerce')\n",
    "df['enthalpy-gb'] = pd.to_numeric(df['enthalpy-gb'],errors='coerce')"
   ]
  },
  {
   "cell_type": "code",
   "execution_count": 158,
   "id": "930ac146-4b19-4ca2-b0e3-29b9f477c501",
   "metadata": {},
   "outputs": [
    {
     "data": {
      "text/plain": [
       "complex-name           object\n",
       "gb-complex-etot       float64\n",
       "gb-complex-1-4-eel    float64\n",
       "gb-complex-eelec      float64\n",
       "gb-complex-egb        float64\n",
       "gb-complex-esurf      float64\n",
       "gb-protein-etot       float64\n",
       "gb-protein-1-4-eel    float64\n",
       "gb-protein-eelect     float64\n",
       "gb-protein-egb        float64\n",
       "gb-protein-esurf      float64\n",
       "gb-ligand-etot        float64\n",
       "gb-ligand-1-4-eel     float64\n",
       "gb-ligand-eelec       float64\n",
       "gb-ligand-egb         float64\n",
       "gb-ligand-esurf       float64\n",
       "pb-complex-etot       float64\n",
       "pb-complex-vdwaals    float64\n",
       "pb-complex-eelect     float64\n",
       "pb-complex-epb        float64\n",
       "pb-complex-ecavity    float64\n",
       "pb-protein-etot       float64\n",
       "pb-protein-vdwaals    float64\n",
       "pb-protein-eelec      float64\n",
       "pb-protein-epb        float64\n",
       "pb-protein-ecavity    float64\n",
       "pb-ligand-etot        float64\n",
       "pb-ligand-vdwaals     float64\n",
       "pb-ligand-eelec       float64\n",
       "pb-ligand-epb         float64\n",
       "pb-ligand-ecavity     float64\n",
       "ddg                   float64\n",
       "enthalpy-gb           float64\n",
       "entropy               float64\n",
       "dtype: object"
      ]
     },
     "execution_count": 158,
     "metadata": {},
     "output_type": "execute_result"
    }
   ],
   "source": [
    "df.dtypes"
   ]
  },
  {
   "cell_type": "markdown",
   "id": "2e386cbc-7ef9-4e97-b38f-e7ab4f87bb3b",
   "metadata": {},
   "source": [
    "# Correlation on entire PDBBIND dataset"
   ]
  },
  {
   "cell_type": "code",
   "execution_count": 4,
   "id": "db27aba5-d205-497a-b8a2-01e055d0a547",
   "metadata": {},
   "outputs": [
    {
     "data": {
      "text/plain": [
       "<AxesSubplot:>"
      ]
     },
     "execution_count": 4,
     "metadata": {},
     "output_type": "execute_result"
    },
    {
     "data": {
      "image/png": "[encoded data removed]",
      "text/plain": [
       "<Figure size 720x720 with 2 Axes>"
      ]
     },
     "metadata": {
      "needs_background": "light"
     },
     "output_type": "display_data"
    }
   ],
   "source": [
    "import seaborn as sns\n",
    "import numpy as np\n",
    "import matplotlib.pyplot as plt\n",
    "f, ax = plt.subplots(figsize=(10, 10))\n",
    "corr = df[['entropy','gb-complex-1-4-eel','gb-complex-eelec','gb-complex-egb','gb-complex-esurf','pb-complex-vdwaals']].corr()\n",
    "sns.heatmap(corr)"
   ]
  },
  {
   "cell_type": "code",
   "execution_count": 13,
   "id": "ecc92932-36f9-43e4-a2b8-c682de825a96",
   "metadata": {},
   "outputs": [
    {
     "data": {
      "text/html": [
       "<div>\n",
       "<style scoped>\n",
       "    .dataframe tbody tr th:only-of-type {\n",
       "        vertical-align: middle;\n",
       "    }\n",
       "\n",
       "    .dataframe tbody tr th {\n",
       "        vertical-align: top;\n",
       "    }\n",
       "\n",
       "    .dataframe thead th {\n",
       "        text-align: right;\n",
       "    }\n",
       "</style>\n",
       "<table border=\"1\" class=\"dataframe\">\n",
       "  <thead>\n",
       "    <tr style=\"text-align: right;\">\n",
       "      <th></th>\n",
       "      <th>complex-name</th>\n",
       "      <th>gb-complex-etot</th>\n",
       "      <th>gb-complex-1-4-eel</th>\n",
       "      <th>gb-complex-eelec</th>\n",
       "      <th>gb-complex-egb</th>\n",
       "      <th>gb-complex-esurf</th>\n",
       "      <th>gb-protein-etot</th>\n",
       "      <th>gb-protein-1-4-eel</th>\n",
       "      <th>gb-protein-eelect</th>\n",
       "      <th>gb-protein-egb</th>\n",
       "      <th>...</th>\n",
       "      <th>pb-protein-epb</th>\n",
       "      <th>pb-protein-ecavity</th>\n",
       "      <th>pb-ligand-etot</th>\n",
       "      <th>pb-ligand-vdwaals</th>\n",
       "      <th>pb-ligand-eelec</th>\n",
       "      <th>pb-ligand-epb</th>\n",
       "      <th>pb-ligand-ecavity</th>\n",
       "      <th>ddg</th>\n",
       "      <th>enthalpy-gb</th>\n",
       "      <th>entropy</th>\n",
       "    </tr>\n",
       "  </thead>\n",
       "  <tbody>\n",
       "    <tr>\n",
       "      <th>2</th>\n",
       "      <td>1a30</td>\n",
       "      <td>-6925.5462</td>\n",
       "      <td>9349.4510</td>\n",
       "      <td>-14111.7670</td>\n",
       "      <td>-2211.3839</td>\n",
       "      <td>48.1538</td>\n",
       "      <td>-6881.3365</td>\n",
       "      <td>8949.8465</td>\n",
       "      <td>-13675.6929</td>\n",
       "      <td>-2204.7807</td>\n",
       "      <td>...</td>\n",
       "      <td>-2179.8309</td>\n",
       "      <td>49.2906</td>\n",
       "      <td>-645.4443</td>\n",
       "      <td>-9.3186</td>\n",
       "      <td>-381.1129</td>\n",
       "      <td>-257.9893</td>\n",
       "      <td>2.9765</td>\n",
       "      <td>-5.940670</td>\n",
       "      <td>148.3394</td>\n",
       "      <td>154.280069</td>\n",
       "    </tr>\n",
       "    <tr>\n",
       "      <th>17</th>\n",
       "      <td>1ai4</td>\n",
       "      <td>-29424.1346</td>\n",
       "      <td>31958.3474</td>\n",
       "      <td>-55211.1125</td>\n",
       "      <td>-6311.2026</td>\n",
       "      <td>139.8330</td>\n",
       "      <td>-29322.8972</td>\n",
       "      <td>31982.8136</td>\n",
       "      <td>-55173.8530</td>\n",
       "      <td>-6272.2149</td>\n",
       "      <td>...</td>\n",
       "      <td>-6195.4217</td>\n",
       "      <td>140.3571</td>\n",
       "      <td>-90.7714</td>\n",
       "      <td>-1.1552</td>\n",
       "      <td>-1.3713</td>\n",
       "      <td>-89.9548</td>\n",
       "      <td>1.7099</td>\n",
       "      <td>-3.453878</td>\n",
       "      <td>-10.9636</td>\n",
       "      <td>-7.509722</td>\n",
       "    </tr>\n",
       "    <tr>\n",
       "      <th>18</th>\n",
       "      <td>1ai5</td>\n",
       "      <td>-29384.3549</td>\n",
       "      <td>32056.8006</td>\n",
       "      <td>-55340.0035</td>\n",
       "      <td>-6240.7194</td>\n",
       "      <td>139.5674</td>\n",
       "      <td>-29305.5370</td>\n",
       "      <td>32072.8366</td>\n",
       "      <td>-55306.7977</td>\n",
       "      <td>-6211.6576</td>\n",
       "      <td>...</td>\n",
       "      <td>-6125.1667</td>\n",
       "      <td>140.0817</td>\n",
       "      <td>-66.8763</td>\n",
       "      <td>-0.8763</td>\n",
       "      <td>10.4660</td>\n",
       "      <td>-78.2770</td>\n",
       "      <td>1.8110</td>\n",
       "      <td>-5.139370</td>\n",
       "      <td>-23.0420</td>\n",
       "      <td>-17.902630</td>\n",
       "    </tr>\n",
       "    <tr>\n",
       "      <th>19</th>\n",
       "      <td>1ai7</td>\n",
       "      <td>-29280.0852</td>\n",
       "      <td>31997.2394</td>\n",
       "      <td>-55160.6492</td>\n",
       "      <td>-6255.8975</td>\n",
       "      <td>139.2221</td>\n",
       "      <td>-29265.3379</td>\n",
       "      <td>32022.0453</td>\n",
       "      <td>-55168.0693</td>\n",
       "      <td>-6258.7753</td>\n",
       "      <td>...</td>\n",
       "      <td>-6170.1682</td>\n",
       "      <td>139.4613</td>\n",
       "      <td>-1.0452</td>\n",
       "      <td>-0.2417</td>\n",
       "      <td>9.2827</td>\n",
       "      <td>-11.3836</td>\n",
       "      <td>1.2975</td>\n",
       "      <td>-5.650544</td>\n",
       "      <td>-9.3781</td>\n",
       "      <td>-3.727556</td>\n",
       "    </tr>\n",
       "    <tr>\n",
       "      <th>21</th>\n",
       "      <td>1aj7</td>\n",
       "      <td>-14683.4881</td>\n",
       "      <td>20251.3474</td>\n",
       "      <td>-31114.2868</td>\n",
       "      <td>-3917.2396</td>\n",
       "      <td>96.6909</td>\n",
       "      <td>-14451.6597</td>\n",
       "      <td>20462.2675</td>\n",
       "      <td>-30979.2015</td>\n",
       "      <td>-4031.9231</td>\n",
       "      <td>...</td>\n",
       "      <td>-4058.4773</td>\n",
       "      <td>97.1974</td>\n",
       "      <td>-49.9266</td>\n",
       "      <td>-2.4516</td>\n",
       "      <td>52.8709</td>\n",
       "      <td>-102.9990</td>\n",
       "      <td>2.6532</td>\n",
       "      <td>-5.346603</td>\n",
       "      <td>-11.2800</td>\n",
       "      <td>-5.933397</td>\n",
       "    </tr>\n",
       "    <tr>\n",
       "      <th>...</th>\n",
       "      <td>...</td>\n",
       "      <td>...</td>\n",
       "      <td>...</td>\n",
       "      <td>...</td>\n",
       "      <td>...</td>\n",
       "      <td>...</td>\n",
       "      <td>...</td>\n",
       "      <td>...</td>\n",
       "      <td>...</td>\n",
       "      <td>...</td>\n",
       "      <td>...</td>\n",
       "      <td>...</td>\n",
       "      <td>...</td>\n",
       "      <td>...</td>\n",
       "      <td>...</td>\n",
       "      <td>...</td>\n",
       "      <td>...</td>\n",
       "      <td>...</td>\n",
       "      <td>...</td>\n",
       "      <td>...</td>\n",
       "      <td>...</td>\n",
       "    </tr>\n",
       "    <tr>\n",
       "      <th>2876</th>\n",
       "      <td>4up5</td>\n",
       "      <td>-3136.6144</td>\n",
       "      <td>3736.2232</td>\n",
       "      <td>-5311.7304</td>\n",
       "      <td>-1586.7837</td>\n",
       "      <td>25.6765</td>\n",
       "      <td>-3075.4131</td>\n",
       "      <td>3797.0503</td>\n",
       "      <td>-5296.9411</td>\n",
       "      <td>-1601.3672</td>\n",
       "      <td>...</td>\n",
       "      <td>-1592.1636</td>\n",
       "      <td>25.8450</td>\n",
       "      <td>-13.4585</td>\n",
       "      <td>-0.2503</td>\n",
       "      <td>-1.1052</td>\n",
       "      <td>-13.9264</td>\n",
       "      <td>1.8234</td>\n",
       "      <td>-3.592033</td>\n",
       "      <td>-9.6515</td>\n",
       "      <td>-6.059467</td>\n",
       "    </tr>\n",
       "    <tr>\n",
       "      <th>2894</th>\n",
       "      <td>4whs</td>\n",
       "      <td>-53414.4373</td>\n",
       "      <td>48666.7373</td>\n",
       "      <td>-91434.3718</td>\n",
       "      <td>-10895.9559</td>\n",
       "      <td>249.1530</td>\n",
       "      <td>-53390.6811</td>\n",
       "      <td>48653.8818</td>\n",
       "      <td>-91400.6849</td>\n",
       "      <td>-10893.2289</td>\n",
       "      <td>...</td>\n",
       "      <td>-10826.9494</td>\n",
       "      <td>249.3508</td>\n",
       "      <td>-46.7916</td>\n",
       "      <td>-0.3817</td>\n",
       "      <td>-31.8938</td>\n",
       "      <td>-15.9075</td>\n",
       "      <td>1.3914</td>\n",
       "      <td>-5.691990</td>\n",
       "      <td>-6.7685</td>\n",
       "      <td>-1.076510</td>\n",
       "    </tr>\n",
       "    <tr>\n",
       "      <th>2904</th>\n",
       "      <td>5yas</td>\n",
       "      <td>-8357.2566</td>\n",
       "      <td>14206.5518</td>\n",
       "      <td>-19810.3718</td>\n",
       "      <td>-2803.9835</td>\n",
       "      <td>50.5468</td>\n",
       "      <td>-8428.0794</td>\n",
       "      <td>14074.9258</td>\n",
       "      <td>-19737.7077</td>\n",
       "      <td>-2816.1167</td>\n",
       "      <td>...</td>\n",
       "      <td>-2779.7329</td>\n",
       "      <td>50.8192</td>\n",
       "      <td>-76.7557</td>\n",
       "      <td>0.7095</td>\n",
       "      <td>-62.3775</td>\n",
       "      <td>-16.4502</td>\n",
       "      <td>1.3626</td>\n",
       "      <td>-4.503856</td>\n",
       "      <td>1.0761</td>\n",
       "      <td>5.579956</td>\n",
       "    </tr>\n",
       "    <tr>\n",
       "      <th>2906</th>\n",
       "      <td>6rnt</td>\n",
       "      <td>-3972.7102</td>\n",
       "      <td>4827.6161</td>\n",
       "      <td>-7038.4884</td>\n",
       "      <td>-1789.2302</td>\n",
       "      <td>27.3924</td>\n",
       "      <td>-3569.8574</td>\n",
       "      <td>5158.9312</td>\n",
       "      <td>-6935.3943</td>\n",
       "      <td>-1820.7675</td>\n",
       "      <td>...</td>\n",
       "      <td>-1826.9428</td>\n",
       "      <td>27.3732</td>\n",
       "      <td>-92.9492</td>\n",
       "      <td>-5.5782</td>\n",
       "      <td>-23.5081</td>\n",
       "      <td>-66.4732</td>\n",
       "      <td>2.6104</td>\n",
       "      <td>-3.274276</td>\n",
       "      <td>-9.9774</td>\n",
       "      <td>-6.703124</td>\n",
       "    </tr>\n",
       "    <tr>\n",
       "      <th>2911</th>\n",
       "      <td>8a3h</td>\n",
       "      <td>-11311.9593</td>\n",
       "      <td>14514.5548</td>\n",
       "      <td>-17122.3046</td>\n",
       "      <td>-8760.1462</td>\n",
       "      <td>55.9367</td>\n",
       "      <td>-11349.4465</td>\n",
       "      <td>14306.8313</td>\n",
       "      <td>-16401.8897</td>\n",
       "      <td>-9310.9686</td>\n",
       "      <td>...</td>\n",
       "      <td>-9229.1824</td>\n",
       "      <td>56.5806</td>\n",
       "      <td>-199.9330</td>\n",
       "      <td>-6.2099</td>\n",
       "      <td>-84.0375</td>\n",
       "      <td>-112.4157</td>\n",
       "      <td>2.7302</td>\n",
       "      <td>-5.609097</td>\n",
       "      <td>-18.1883</td>\n",
       "      <td>-12.579203</td>\n",
       "    </tr>\n",
       "  </tbody>\n",
       "</table>\n",
       "<p>495 rows × 34 columns</p>\n",
       "</div>"
      ],
      "text/plain": [
       "     complex-name  gb-complex-etot  gb-complex-1-4-eel  gb-complex-eelec  \\\n",
       "2            1a30       -6925.5462           9349.4510       -14111.7670   \n",
       "17           1ai4      -29424.1346          31958.3474       -55211.1125   \n",
       "18           1ai5      -29384.3549          32056.8006       -55340.0035   \n",
       "19           1ai7      -29280.0852          31997.2394       -55160.6492   \n",
       "21           1aj7      -14683.4881          20251.3474       -31114.2868   \n",
       "...           ...              ...                 ...               ...   \n",
       "2876         4up5       -3136.6144           3736.2232        -5311.7304   \n",
       "2894         4whs      -53414.4373          48666.7373       -91434.3718   \n",
       "2904         5yas       -8357.2566          14206.5518       -19810.3718   \n",
       "2906         6rnt       -3972.7102           4827.6161        -7038.4884   \n",
       "2911         8a3h      -11311.9593          14514.5548       -17122.3046   \n",
       "\n",
       "      gb-complex-egb  gb-complex-esurf  gb-protein-etot  gb-protein-1-4-eel  \\\n",
       "2         -2211.3839           48.1538       -6881.3365           8949.8465   \n",
       "17        -6311.2026          139.8330      -29322.8972          31982.8136   \n",
       "18        -6240.7194          139.5674      -29305.5370          32072.8366   \n",
       "19        -6255.8975          139.2221      -29265.3379          32022.0453   \n",
       "21        -3917.2396           96.6909      -14451.6597          20462.2675   \n",
       "...              ...               ...              ...                 ...   \n",
       "2876      -1586.7837           25.6765       -3075.4131           3797.0503   \n",
       "2894     -10895.9559          249.1530      -53390.6811          48653.8818   \n",
       "2904      -2803.9835           50.5468       -8428.0794          14074.9258   \n",
       "2906      -1789.2302           27.3924       -3569.8574           5158.9312   \n",
       "2911      -8760.1462           55.9367      -11349.4465          14306.8313   \n",
       "\n",
       "      gb-protein-eelect  gb-protein-egb  ...  pb-protein-epb  \\\n",
       "2           -13675.6929      -2204.7807  ...      -2179.8309   \n",
       "17          -55173.8530      -6272.2149  ...      -6195.4217   \n",
       "18          -55306.7977      -6211.6576  ...      -6125.1667   \n",
       "19          -55168.0693      -6258.7753  ...      -6170.1682   \n",
       "21          -30979.2015      -4031.9231  ...      -4058.4773   \n",
       "...                 ...             ...  ...             ...   \n",
       "2876         -5296.9411      -1601.3672  ...      -1592.1636   \n",
       "2894        -91400.6849     -10893.2289  ...     -10826.9494   \n",
       "2904        -19737.7077      -2816.1167  ...      -2779.7329   \n",
       "2906         -6935.3943      -1820.7675  ...      -1826.9428   \n",
       "2911        -16401.8897      -9310.9686  ...      -9229.1824   \n",
       "\n",
       "      pb-protein-ecavity  pb-ligand-etot  pb-ligand-vdwaals  pb-ligand-eelec  \\\n",
       "2                49.2906       -645.4443            -9.3186        -381.1129   \n",
       "17              140.3571        -90.7714            -1.1552          -1.3713   \n",
       "18              140.0817        -66.8763            -0.8763          10.4660   \n",
       "19              139.4613         -1.0452            -0.2417           9.2827   \n",
       "21               97.1974        -49.9266            -2.4516          52.8709   \n",
       "...                  ...             ...                ...              ...   \n",
       "2876             25.8450        -13.4585            -0.2503          -1.1052   \n",
       "2894            249.3508        -46.7916            -0.3817         -31.8938   \n",
       "2904             50.8192        -76.7557             0.7095         -62.3775   \n",
       "2906             27.3732        -92.9492            -5.5782         -23.5081   \n",
       "2911             56.5806       -199.9330            -6.2099         -84.0375   \n",
       "\n",
       "      pb-ligand-epb  pb-ligand-ecavity       ddg  enthalpy-gb     entropy  \n",
       "2         -257.9893             2.9765 -5.940670     148.3394  154.280069  \n",
       "17         -89.9548             1.7099 -3.453878     -10.9636   -7.509722  \n",
       "18         -78.2770             1.8110 -5.139370     -23.0420  -17.902630  \n",
       "19         -11.3836             1.2975 -5.650544      -9.3781   -3.727556  \n",
       "21        -102.9990             2.6532 -5.346603     -11.2800   -5.933397  \n",
       "...             ...                ...       ...          ...         ...  \n",
       "2876       -13.9264             1.8234 -3.592033      -9.6515   -6.059467  \n",
       "2894       -15.9075             1.3914 -5.691990      -6.7685   -1.076510  \n",
       "2904       -16.4502             1.3626 -4.503856       1.0761    5.579956  \n",
       "2906       -66.4732             2.6104 -3.274276      -9.9774   -6.703124  \n",
       "2911      -112.4157             2.7302 -5.609097     -18.1883  -12.579203  \n",
       "\n",
       "[495 rows x 34 columns]"
      ]
     },
     "execution_count": 13,
     "metadata": {},
     "output_type": "execute_result"
    }
   ],
   "source": [
    "df[df['ddg']>-6]"
   ]
  },
  {
   "cell_type": "code",
   "execution_count": null,
   "id": "f4433802-36c6-4197-83db-8c2b2cd12695",
   "metadata": {},
   "outputs": [],
   "source": []
  }
 ],
 "metadata": {
  "kernelspec": {
   "display_name": "Python 3 (ipykernel)",
   "language": "python",
   "name": "python3"
  },
  "language_info": {
   "codemirror_mode": {
    "name": "ipython",
    "version": 3
   },
   "file_extension": ".py",
   "mimetype": "text/x-python",
   "name": "python",
   "nbconvert_exporter": "python",
   "pygments_lexer": "ipython3",
   "version": "3.9.9"
  }
 },
 "nbformat": 4,
 "nbformat_minor": 5
}
